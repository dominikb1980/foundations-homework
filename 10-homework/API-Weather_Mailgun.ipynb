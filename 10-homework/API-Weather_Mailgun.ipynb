{
 "cells": [
  {
   "cell_type": "code",
   "execution_count": 1,
   "metadata": {},
   "outputs": [],
   "source": [
    "import requests\n",
    "import datetime\n",
    "import time\n",
    "\n",
    "#human readable time\n",
    "localtime = time.asctime(time.localtime(time.time()))\n",
    "#UNIX-Time\n",
    "current_UNIX_Time = int(time.time())\n",
    "current_UNIX_Time = str(current_UNIX_Time)"
   ]
  },
  {
   "cell_type": "code",
   "execution_count": 5,
   "metadata": {},
   "outputs": [],
   "source": [
    "url = (\"https://api.forecast.io/forecast/e554f37a8164ce189acd210d00a452e0/46.94809,7.44744\" + current_UNIX_Time)\n",
    "response = requests.get(url)\n",
    "weather_forecast_bern = response.json()"
   ]
  },
  {
   "cell_type": "code",
   "execution_count": 6,
   "metadata": {},
   "outputs": [],
   "source": [
    "def celsius(x):\n",
    "    return round((x -32) /1.8)"
   ]
  },
  {
   "cell_type": "code",
   "execution_count": 9,
   "metadata": {},
   "outputs": [
    {
     "data": {
      "text/plain": [
       "dict_keys(['time', 'summary', 'icon', 'precipIntensity', 'precipProbability', 'temperature', 'apparentTemperature', 'dewPoint', 'humidity', 'pressure', 'windSpeed', 'windGust', 'windBearing', 'cloudCover', 'uvIndex', 'visibility', 'ozone'])"
      ]
     },
     "execution_count": 9,
     "metadata": {},
     "output_type": "execute_result"
    }
   ],
   "source": [
    "weather_forecast_bern['currently'].keys()"
   ]
  },
  {
   "cell_type": "code",
   "execution_count": 8,
   "metadata": {},
   "outputs": [
    {
     "data": {
      "text/plain": [
       "19"
      ]
     },
     "execution_count": 8,
     "metadata": {},
     "output_type": "execute_result"
    }
   ],
   "source": [
    "Current_Temperature = celsius(weather_forecast_trogen['currently']['apparentTemperature'])\n",
    "Current_Temperature"
   ]
  },
  {
   "cell_type": "code",
   "execution_count": 10,
   "metadata": {},
   "outputs": [],
   "source": [
    "Summary = weather_forecast_bern['currently']['summary']"
   ]
  },
  {
   "cell_type": "code",
   "execution_count": 11,
   "metadata": {},
   "outputs": [
    {
     "data": {
      "text/plain": [
       "'Partly Cloudy'"
      ]
     },
     "execution_count": 11,
     "metadata": {},
     "output_type": "execute_result"
    }
   ],
   "source": [
    "Summary"
   ]
  },
  {
   "cell_type": "code",
   "execution_count": 12,
   "metadata": {},
   "outputs": [],
   "source": [
    "for TemperatureMax in weather_forecast_bern['daily']['data']:\n",
    "    apparentTemperatureMax_tomorrow = TemperatureMax['apparentTemperatureMax']\n",
    "    break\n",
    "\n",
    "apparentTemperatureMax_tomorrow = celsius(apparentTemperatureMax_tomorrow)\n",
    "\n",
    "if apparentTemperatureMax_tomorrow > 30:\n",
    "    apparentTemperatureMax_tomorrow = \"hot\"\n",
    "elif apparentTemperatureMax_tomorrow > 25:\n",
    "    apparentTemperatureMax_tomorrow = \"warm\"\n",
    "elif apparentTemperatureMax_tomorrow > 18:\n",
    "    apparentTemperatureMax_tomorrow = \"warmish\"\n",
    "elif apparentTemperatureMax_tomorrow > 8:\n",
    "    apparentTemperatureMax_tomorrow = \"cool\"\n",
    "elif apparentTemperatureMax_tomorrow > 0:\n",
    "    apparentTemperatureMax_tomorrow = \"freezing\"\n",
    "else: \n",
    "    apparentTemperatureMax_tomorrow = \"icey cold\""
   ]
  },
  {
   "cell_type": "code",
   "execution_count": 13,
   "metadata": {},
   "outputs": [
    {
     "data": {
      "text/plain": [
       "28"
      ]
     },
     "execution_count": 13,
     "metadata": {},
     "output_type": "execute_result"
    }
   ],
   "source": [
    "for TemperatureMax in weather_forecast_bern['daily']['data']:\n",
    "    TemperatureMax_tomorrow = TemperatureMax['apparentTemperatureMax']\n",
    "    break\n",
    "\n",
    "celsius(TemperatureMax_tomorrow)"
   ]
  },
  {
   "cell_type": "code",
   "execution_count": 14,
   "metadata": {},
   "outputs": [],
   "source": [
    "for TemperatureMaxTime in weather_forecast_trogen['daily']['data']:\n",
    "    TemperatureMaxtime_tomorrow = TemperatureMaxTime['apparentTemperatureMaxTime']\n",
    "    break\n",
    "\n",
    "import datetime\n",
    "TemperatureMaxTime = (\n",
    "    datetime.datetime.fromtimestamp(\n",
    "        int(TemperatureMaxtime_tomorrow)\n",
    "    ).strftime('%H:%M')\n",
    ")"
   ]
  },
  {
   "cell_type": "code",
   "execution_count": 15,
   "metadata": {},
   "outputs": [
    {
     "data": {
      "text/plain": [
       "11"
      ]
     },
     "execution_count": 15,
     "metadata": {},
     "output_type": "execute_result"
    }
   ],
   "source": [
    "for TemperatureMin in weather_forecast_bern['daily']['data']:\n",
    "    TemperatureMin_tomorrow = TemperatureMin['apparentTemperatureMin']\n",
    "    break\n",
    "\n",
    "celsius(TemperatureMin_tomorrow)"
   ]
  },
  {
   "cell_type": "code",
   "execution_count": 16,
   "metadata": {},
   "outputs": [],
   "source": [
    "for TemperatureMinTime in weather_forecast_bern['daily']['data']:\n",
    "    TemperatureMintime_tomorrow = TemperatureMinTime['apparentTemperatureMinTime']\n",
    "    break\n",
    "\n",
    "import datetime\n",
    "TemperatureMinTime = (\n",
    "    datetime.datetime.fromtimestamp(\n",
    "        int(TemperatureMintime_tomorrow)\n",
    "    ).strftime('%H:%M')\n",
    ")"
   ]
  },
  {
   "cell_type": "code",
   "execution_count": 17,
   "metadata": {},
   "outputs": [],
   "source": [
    "icon = weather_forecast_bern['currently']['icon']"
   ]
  },
  {
   "cell_type": "code",
   "execution_count": 18,
   "metadata": {},
   "outputs": [
    {
     "name": "stdout",
     "output_type": "stream",
     "text": [
      "partly-cloudy-day\n"
     ]
    }
   ],
   "source": [
    "if icon == 'clear-day':\n",
    "    icon = \"clear\"\n",
    "elif icon == 'clear-night':\n",
    "    icon = \"clear\"\n",
    "elif icon == 'rain':\n",
    "    icon = \"rainy\"\n",
    "elif icon == 'snow':\n",
    "    icon = \"snowy\"\n",
    "elif icon == 'sleet':\n",
    "    icon = \"sleety\"\n",
    "elif icon == 'wind':\n",
    "    icon = \"windy\"\n",
    "elif icon == 'foggy':\n",
    "    icon = \"foggy\"\n",
    "elif icon == 'cloudy':\n",
    "    icon = 'cloudy'\n",
    "elif icon == 'partly-cloudy day.':\n",
    "    icon = 'partly-cloudy'\n",
    "elif icon == 'partly-cloudy-night':\n",
    "    icon = 'partly-cloudy'\n",
    "\n",
    "print(icon)"
   ]
  },
  {
   "cell_type": "code",
   "execution_count": 19,
   "metadata": {},
   "outputs": [
    {
     "name": "stdout",
     "output_type": "stream",
     "text": [
      "The current temperature is 19 °C. It is partly cloudy. Tomorrow, a warm day awaits you, with a maximum temperature of 28 °C, peaking at 11:00. The coldest hour of day is 23:00 reaching a low of 11 °C. All in all it will be a partly-cloudy-day day.\n"
     ]
    }
   ],
   "source": [
    "print(\"The current temperature is \" + str(Current_Temperature) + \" °C. It is \" + Summary.lower() \\\n",
    "      + \". Tomorrow, a \" + str(apparentTemperatureMax_tomorrow) + \" day awaits you, with a maximum temperature of \" + str(celsius(TemperatureMax_tomorrow)) + \" °C, peaking at \" + \\\n",
    "      str(TemperatureMaxTime) + \". The coldest hour of day is \" + str(TemperatureMinTime) + \" reaching a low of \" \\\n",
    "      + str(celsius(TemperatureMin_tomorrow)) + \" °C. All in all it will be a \" + icon + \" day.\")"
   ]
  },
  {
   "cell_type": "code",
   "execution_count": 21,
   "metadata": {},
   "outputs": [
    {
     "name": "stdout",
     "output_type": "stream",
     "text": [
      "Status: 200\n",
      "Body:   {\n",
      "  \"id\": \"<20190623123205.1.DF12FC03B9B51357@sandbox66dab21f947a48f9b29904ba482cad44.mailgun.org>\",\n",
      "  \"message\": \"Queued. Thank you.\"\n",
      "}\n"
     ]
    }
   ],
   "source": [
    "key = 'b475b79290ca59932ef208e01911d31a-52b0ea77-9d8ef609'\n",
    "sandbox = 'sandbox66dab21f947a48f9b29904ba482cad44.mailgun.org'\n",
    "recipient = 'db3322@columbia.edu'\n",
    "\n",
    "# https://api.mailgun.net/v3/sandbox66dab21f947a48f9b29904ba482cad44.mailgun.org\n",
    "# request_url = 'https://api.mailgun.net/v2/{0}/messages'.format(sandbox)\n",
    "\n",
    "request_url = 'https://api.mailgun.net/v3/sandbox66dab21f947a48f9b29904ba482cad44.mailgun.org/messages'\n",
    "request = requests.post(request_url,\n",
    "    auth=('api', key),\n",
    "    data={\n",
    "        'from': 'dominik.balmer@gmail.com',\n",
    "        'to': recipient, \n",
    "        'subject': 'Weather Report For Bern',\n",
    "        'text': (\"The current temperature is \" + str(Current_Temperature) + \" °C. It is \" + Summary.lower() \\\n",
    "      + \". Tomorrow, a \" + str(apparentTemperatureMax_tomorrow) + \" day awaits you, with a maximum temperature of \" + str(celsius(TemperatureMax_tomorrow)) + \" °C, peaking at \" + \\\n",
    "      str(TemperatureMaxTime) + \". The coldest hour of day is \" + str(TemperatureMinTime) + \" reaching a low of \" \\\n",
    "      + str(celsius(TemperatureMin_tomorrow)) + \" °C. All in all it will be a \" + icon + \" day.\")\n",
    "})\n",
    "\n",
    "print('Status: {0}'.format(request.status_code))\n",
    "print('Body:   {0}'.format(request.text))"
   ]
  },
  {
   "cell_type": "code",
   "execution_count": null,
   "metadata": {},
   "outputs": [],
   "source": []
  },
  {
   "cell_type": "code",
   "execution_count": null,
   "metadata": {},
   "outputs": [],
   "source": []
  },
  {
   "cell_type": "code",
   "execution_count": null,
   "metadata": {},
   "outputs": [],
   "source": []
  }
 ],
 "metadata": {
  "kernelspec": {
   "display_name": "Python 3",
   "language": "python",
   "name": "python3"
  },
  "language_info": {
   "codemirror_mode": {
    "name": "ipython",
    "version": 3
   },
   "file_extension": ".py",
   "mimetype": "text/x-python",
   "name": "python",
   "nbconvert_exporter": "python",
   "pygments_lexer": "ipython3",
   "version": "3.7.3"
  }
 },
 "nbformat": 4,
 "nbformat_minor": 2
}
