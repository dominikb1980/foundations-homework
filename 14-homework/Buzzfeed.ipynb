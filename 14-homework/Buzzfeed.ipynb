{
 "cells": [
  {
   "cell_type": "code",
   "execution_count": 1,
   "metadata": {},
   "outputs": [],
   "source": [
    "import pandas as pd\n",
    "import seaborn as sns\n",
    "import matplotlib\n",
    "import matplotlib.pyplot as plt\n",
    "\n",
    "%matplotlib inline\n",
    "\n",
    "matplotlib.rcParams['pdf.fonttype'] = 42"
   ]
  },
  {
   "cell_type": "code",
   "execution_count": 42,
   "metadata": {},
   "outputs": [
    {
     "data": {
      "text/html": [
       "<div>\n",
       "<style scoped>\n",
       "    .dataframe tbody tr th:only-of-type {\n",
       "        vertical-align: middle;\n",
       "    }\n",
       "\n",
       "    .dataframe tbody tr th {\n",
       "        vertical-align: top;\n",
       "    }\n",
       "\n",
       "    .dataframe thead th {\n",
       "        text-align: right;\n",
       "    }\n",
       "</style>\n",
       "<table border=\"1\" class=\"dataframe\">\n",
       "  <thead>\n",
       "    <tr style=\"text-align: right;\">\n",
       "      <th></th>\n",
       "      <th>quarter</th>\n",
       "      <th>toa_group</th>\n",
       "      <th>count_all</th>\n",
       "      <th>count_female</th>\n",
       "      <th>pct_female</th>\n",
       "    </tr>\n",
       "  </thead>\n",
       "  <tbody>\n",
       "    <tr>\n",
       "      <th>0</th>\n",
       "      <td>1998-09</td>\n",
       "      <td>all-permanent</td>\n",
       "      <td>1556531</td>\n",
       "      <td>667289</td>\n",
       "      <td>42.870267</td>\n",
       "    </tr>\n",
       "    <tr>\n",
       "      <th>1</th>\n",
       "      <td>1998-09</td>\n",
       "      <td>midlevel-appointees</td>\n",
       "      <td>1999</td>\n",
       "      <td>1009</td>\n",
       "      <td>50.475238</td>\n",
       "    </tr>\n",
       "    <tr>\n",
       "      <th>2</th>\n",
       "      <td>1999-09</td>\n",
       "      <td>all-permanent</td>\n",
       "      <td>1536156</td>\n",
       "      <td>660663</td>\n",
       "      <td>43.007546</td>\n",
       "    </tr>\n",
       "    <tr>\n",
       "      <th>3</th>\n",
       "      <td>1999-09</td>\n",
       "      <td>midlevel-appointees</td>\n",
       "      <td>2025</td>\n",
       "      <td>1018</td>\n",
       "      <td>50.271605</td>\n",
       "    </tr>\n",
       "    <tr>\n",
       "      <th>4</th>\n",
       "      <td>2000-09</td>\n",
       "      <td>all-permanent</td>\n",
       "      <td>1524883</td>\n",
       "      <td>658788</td>\n",
       "      <td>43.202528</td>\n",
       "    </tr>\n",
       "  </tbody>\n",
       "</table>\n",
       "</div>"
      ],
      "text/plain": [
       "   quarter            toa_group  count_all  count_female  pct_female\n",
       "0  1998-09        all-permanent    1556531        667289   42.870267\n",
       "1  1998-09  midlevel-appointees       1999          1009   50.475238\n",
       "2  1999-09        all-permanent    1536156        660663   43.007546\n",
       "3  1999-09  midlevel-appointees       2025          1018   50.271605\n",
       "4  2000-09        all-permanent    1524883        658788   43.202528"
      ]
     },
     "execution_count": 42,
     "metadata": {},
     "output_type": "execute_result"
    }
   ],
   "source": [
    "df = pd.read_csv(\"data/gender-by-quarter.csv\")\n",
    "df.head()"
   ]
  },
  {
   "cell_type": "code",
   "execution_count": 46,
   "metadata": {},
   "outputs": [
    {
     "data": {
      "text/html": [
       "<div>\n",
       "<style scoped>\n",
       "    .dataframe tbody tr th:only-of-type {\n",
       "        vertical-align: middle;\n",
       "    }\n",
       "\n",
       "    .dataframe tbody tr th {\n",
       "        vertical-align: top;\n",
       "    }\n",
       "\n",
       "    .dataframe thead th {\n",
       "        text-align: right;\n",
       "    }\n",
       "</style>\n",
       "<table border=\"1\" class=\"dataframe\">\n",
       "  <thead>\n",
       "    <tr style=\"text-align: right;\">\n",
       "      <th></th>\n",
       "      <th>quarter</th>\n",
       "      <th>toa_group</th>\n",
       "      <th>count_all</th>\n",
       "      <th>count_female</th>\n",
       "      <th>pct_female</th>\n",
       "    </tr>\n",
       "  </thead>\n",
       "  <tbody>\n",
       "    <tr>\n",
       "      <th>0</th>\n",
       "      <td>1998-09</td>\n",
       "      <td>all-permanent</td>\n",
       "      <td>1556531</td>\n",
       "      <td>667289</td>\n",
       "      <td>42.870267</td>\n",
       "    </tr>\n",
       "    <tr>\n",
       "      <th>2</th>\n",
       "      <td>1999-09</td>\n",
       "      <td>all-permanent</td>\n",
       "      <td>1536156</td>\n",
       "      <td>660663</td>\n",
       "      <td>43.007546</td>\n",
       "    </tr>\n",
       "    <tr>\n",
       "      <th>4</th>\n",
       "      <td>2000-09</td>\n",
       "      <td>all-permanent</td>\n",
       "      <td>1524883</td>\n",
       "      <td>658788</td>\n",
       "      <td>43.202528</td>\n",
       "    </tr>\n",
       "    <tr>\n",
       "      <th>6</th>\n",
       "      <td>2001-09</td>\n",
       "      <td>all-permanent</td>\n",
       "      <td>1536627</td>\n",
       "      <td>666477</td>\n",
       "      <td>43.372725</td>\n",
       "    </tr>\n",
       "    <tr>\n",
       "      <th>8</th>\n",
       "      <td>2002-09</td>\n",
       "      <td>all-permanent</td>\n",
       "      <td>1579254</td>\n",
       "      <td>682586</td>\n",
       "      <td>43.222053</td>\n",
       "    </tr>\n",
       "  </tbody>\n",
       "</table>\n",
       "</div>"
      ],
      "text/plain": [
       "   quarter      toa_group  count_all  count_female  pct_female\n",
       "0  1998-09  all-permanent    1556531        667289   42.870267\n",
       "2  1999-09  all-permanent    1536156        660663   43.007546\n",
       "4  2000-09  all-permanent    1524883        658788   43.202528\n",
       "6  2001-09  all-permanent    1536627        666477   43.372725\n",
       "8  2002-09  all-permanent    1579254        682586   43.222053"
      ]
     },
     "execution_count": 46,
     "metadata": {},
     "output_type": "execute_result"
    }
   ],
   "source": [
    "df1 = df[df.toa_group == 'all-permanent']\n",
    "df1.head()"
   ]
  },
  {
   "cell_type": "code",
   "execution_count": 47,
   "metadata": {},
   "outputs": [
    {
     "data": {
      "text/html": [
       "<div>\n",
       "<style scoped>\n",
       "    .dataframe tbody tr th:only-of-type {\n",
       "        vertical-align: middle;\n",
       "    }\n",
       "\n",
       "    .dataframe tbody tr th {\n",
       "        vertical-align: top;\n",
       "    }\n",
       "\n",
       "    .dataframe thead th {\n",
       "        text-align: right;\n",
       "    }\n",
       "</style>\n",
       "<table border=\"1\" class=\"dataframe\">\n",
       "  <thead>\n",
       "    <tr style=\"text-align: right;\">\n",
       "      <th></th>\n",
       "      <th>quarter</th>\n",
       "      <th>toa_group</th>\n",
       "      <th>count_all</th>\n",
       "      <th>count_female</th>\n",
       "      <th>pct_female</th>\n",
       "    </tr>\n",
       "  </thead>\n",
       "  <tbody>\n",
       "    <tr>\n",
       "      <th>1</th>\n",
       "      <td>1998-09</td>\n",
       "      <td>midlevel-appointees</td>\n",
       "      <td>1999</td>\n",
       "      <td>1009</td>\n",
       "      <td>50.475238</td>\n",
       "    </tr>\n",
       "    <tr>\n",
       "      <th>3</th>\n",
       "      <td>1999-09</td>\n",
       "      <td>midlevel-appointees</td>\n",
       "      <td>2025</td>\n",
       "      <td>1018</td>\n",
       "      <td>50.271605</td>\n",
       "    </tr>\n",
       "    <tr>\n",
       "      <th>5</th>\n",
       "      <td>2000-09</td>\n",
       "      <td>midlevel-appointees</td>\n",
       "      <td>1826</td>\n",
       "      <td>933</td>\n",
       "      <td>51.095290</td>\n",
       "    </tr>\n",
       "    <tr>\n",
       "      <th>7</th>\n",
       "      <td>2001-09</td>\n",
       "      <td>midlevel-appointees</td>\n",
       "      <td>1211</td>\n",
       "      <td>505</td>\n",
       "      <td>41.701073</td>\n",
       "    </tr>\n",
       "    <tr>\n",
       "      <th>9</th>\n",
       "      <td>2002-09</td>\n",
       "      <td>midlevel-appointees</td>\n",
       "      <td>2006</td>\n",
       "      <td>804</td>\n",
       "      <td>40.079761</td>\n",
       "    </tr>\n",
       "  </tbody>\n",
       "</table>\n",
       "</div>"
      ],
      "text/plain": [
       "   quarter            toa_group  count_all  count_female  pct_female\n",
       "1  1998-09  midlevel-appointees       1999          1009   50.475238\n",
       "3  1999-09  midlevel-appointees       2025          1018   50.271605\n",
       "5  2000-09  midlevel-appointees       1826           933   51.095290\n",
       "7  2001-09  midlevel-appointees       1211           505   41.701073\n",
       "9  2002-09  midlevel-appointees       2006           804   40.079761"
      ]
     },
     "execution_count": 47,
     "metadata": {},
     "output_type": "execute_result"
    }
   ],
   "source": [
    "df2 = df[df.toa_group == 'midlevel-appointees']\n",
    "df2.head()"
   ]
  },
  {
   "cell_type": "code",
   "execution_count": 75,
   "metadata": {},
   "outputs": [],
   "source": [
    "df4 = df1.merge(df2, left_on='quarter', right_on='quarter')\n",
    "df4.head()\n",
    "\n",
    "df4['quarter'] = pd.to_datetime(df4['quarter'])"
   ]
  },
  {
   "cell_type": "code",
   "execution_count": 82,
   "metadata": {},
   "outputs": [
    {
     "data": {
      "image/png": "[encoded data removed]",
      "text/plain": [
       "<Figure size 576x432 with 1 Axes>"
      ]
     },
     "metadata": {
      "needs_background": "light"
     },
     "output_type": "display_data"
    }
   ],
   "source": [
    "df4.plot(x='quarter', y=['pct_female_y', 'pct_female_x'], ylim=[0, 60], figsize=(8, 6), color=['red', 'black'],\n",
    "         marker='o', mfc='white', grid=True, title='% of Federal Employees Identifying as Female', legend=False)\n",
    "\n",
    "plt.savefig(\"graph_female_pct.pdf\")"
   ]
  },
  {
   "cell_type": "code",
   "execution_count": 84,
   "metadata": {},
   "outputs": [
    {
     "name": "stdout",
     "output_type": "stream",
     "text": [
      "Collecting tabula\n",
      "  Downloading https://files.pythonhosted.org/packages/eb/bf/b2084620900655a8c080af9873cc654a8a2b0d7a5a111ca4ba947cd9717d/tabula-1.0.5.tar.gz\n",
      "Requirement already satisfied: setuptools in c:\\users\\dominik balmer\\appdata\\local\\programs\\python\\python37\\lib\\site-packages (from tabula) (40.8.0)\n",
      "Requirement already satisfied: numpy in c:\\users\\dominik balmer\\appdata\\local\\programs\\python\\python37\\lib\\site-packages (from tabula) (1.16.4)\n",
      "Installing collected packages: tabula\n",
      "  Running setup.py install for tabula: started\n",
      "    Running setup.py install for tabula: finished with status 'done'\n",
      "Successfully installed tabula-1.0.5\n"
     ]
    },
    {
     "name": "stderr",
     "output_type": "stream",
     "text": [
      "You are using pip version 19.0.3, however version 19.1.1 is available.\n",
      "You should consider upgrading via the 'python -m pip install --upgrade pip' command.\n"
     ]
    }
   ],
   "source": [
    "!pip install tabula"
   ]
  },
  {
   "cell_type": "code",
   "execution_count": null,
   "metadata": {},
   "outputs": [],
   "source": []
  },
  {
   "cell_type": "code",
   "execution_count": null,
   "metadata": {},
   "outputs": [],
   "source": []
  },
  {
   "cell_type": "code",
   "execution_count": null,
   "metadata": {},
   "outputs": [],
   "source": []
  }
 ],
 "metadata": {
  "kernelspec": {
   "display_name": "Python 3",
   "language": "python",
   "name": "python3"
  },
  "language_info": {
   "codemirror_mode": {
    "name": "ipython",
    "version": 3
   },
   "file_extension": ".py",
   "mimetype": "text/x-python",
   "name": "python",
   "nbconvert_exporter": "python",
   "pygments_lexer": "ipython3",
   "version": "3.7.3"
  }
 },
 "nbformat": 4,
 "nbformat_minor": 2
}
